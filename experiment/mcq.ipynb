{
 "cells": [
  {
   "cell_type": "code",
   "execution_count": 1,
   "id": "e95f363a",
   "metadata": {},
   "outputs": [],
   "source": [
    "import os \n",
    "import json\n",
    "import pandas as pd\n",
    "import traceback"
   ]
  },
  {
   "cell_type": "code",
   "execution_count": 2,
   "id": "92a4dfc3",
   "metadata": {},
   "outputs": [],
   "source": [
    "from langchain.chat_models import ChatOpenAI"
   ]
  },
  {
   "cell_type": "code",
   "execution_count": 3,
   "id": "4b9e8265",
   "metadata": {},
   "outputs": [
    {
     "data": {
      "text/plain": [
       "True"
      ]
     },
     "execution_count": 3,
     "metadata": {},
     "output_type": "execute_result"
    }
   ],
   "source": [
    "from dotenv import load_dotenv\n",
    "load_dotenv()\n"
   ]
  },
  {
   "cell_type": "code",
   "execution_count": null,
   "id": "decfece9",
   "metadata": {},
   "outputs": [],
   "source": [
    "# KEY=os.getenv(\"OPENAI_API_KEY\")\n",
    "KEY=os.getenv(\"OPENAI_API_KEY\")"
   ]
  },
  {
   "cell_type": "code",
   "execution_count": 5,
   "id": "45232639",
   "metadata": {},
   "outputs": [
    {
     "name": "stdout",
     "output_type": "stream",
     "text": [
      "sk-proj-Q0Tg4mZEUkpsZroMauArT3BlbkFJw3mCaHPcEH2fe60IOM9m\n"
     ]
    }
   ],
   "source": [
    "print(KEY)"
   ]
  },
  {
   "cell_type": "code",
   "execution_count": 6,
   "id": "bb6c38f1",
   "metadata": {},
   "outputs": [
    {
     "name": "stderr",
     "output_type": "stream",
     "text": [
      "C:\\Users\\prade\\AppData\\Local\\Temp\\ipykernel_17640\\2401954086.py:1: LangChainDeprecationWarning: The class `ChatOpenAI` was deprecated in LangChain 0.0.10 and will be removed in 1.0. An updated version of the class exists in the :class:`~langchain-openai package and should be used instead. To use it run `pip install -U :class:`~langchain-openai` and import as `from :class:`~langchain_openai import ChatOpenAI``.\n",
      "  llm=ChatOpenAI(openai_api_key=KEY,model_name=\"gpt-3.5-turbo,temperature=0.3\")\n"
     ]
    }
   ],
   "source": [
    "llm=ChatOpenAI(openai_api_key=KEY,model_name=\"gpt-3.5-turbo,temperature=0.3\")"
   ]
  },
  {
   "cell_type": "code",
   "execution_count": 7,
   "id": "7bfd8d06",
   "metadata": {},
   "outputs": [
    {
     "name": "stdout",
     "output_type": "stream",
     "text": [
      "c:\\Users\\prade\\.conda\\envs\\pradeep\\python.exe\n"
     ]
    }
   ],
   "source": [
    "import sys\n",
    "print(sys.executable)\n",
    "\n"
   ]
  },
  {
   "cell_type": "code",
   "execution_count": 9,
   "id": "667ad2b1",
   "metadata": {},
   "outputs": [],
   "source": [
    "from langchain.llms import OpenAI\n",
    "from langchain.chat_models import ChatOpenAI\n",
    "from langchain.prompts import PromptTemplate\n",
    "from langchain.chains import LLMChain\n",
    "from langchain.chains import SequentialChain\n",
    "from langchain.callbacks import get_openai_callback\n",
    "import os\n",
    "import json\n",
    "import pandas as pd\n",
    "import traceback\n",
    "from dotenv import load_dotenv\n"
   ]
  },
  {
   "cell_type": "code",
   "execution_count": 10,
   "id": "dbb4a0ad",
   "metadata": {},
   "outputs": [],
   "source": [
    "RESPONSE_JSON={\n",
    "    \"1\":{\n",
    "        \"mcq\":\"multiple choice question\",\n",
    "        \"options\":{\n",
    "            \"a\":\"choice here\",\n",
    "            \"b\":\"choice here\",\n",
    "            \"c\":\"choice here\",\n",
    "            \"d\":\"choice here\",\n",
    "        },\n",
    "        \"correct\":\"correct answer\",\n",
    "    },\n",
    "    \"2\":{\n",
    "        \"mcq\":\"multiple choice question\",\n",
    "        \"options\":{\n",
    "            \"a\":\"choice here\",\n",
    "            \"b\":\"choice here\",\n",
    "            \"c\":\"choice here\",\n",
    "            \"d\":\"choice here\",\n",
    "        },\n",
    "        \"correct\":\"correct answer\",\n",
    "    },\n",
    "     \"3\":{\n",
    "        \"mcq\":\"multiple choice question\",\n",
    "        \"options\":{\n",
    "            \"a\":\"choice here\",\n",
    "            \"b\":\"choice here\",\n",
    "            \"c\":\"choice here\",\n",
    "            \"d\":\"choice here\",\n",
    "        },\n",
    "        \"correct\":\"correct answer\",\n",
    "    },\n",
    "     \"4\":{\n",
    "        \"mcq\":\"multiple choice question\",\n",
    "        \"options\":{\n",
    "            \"a\":\"choice here\",\n",
    "            \"b\":\"choice here\",\n",
    "            \"c\":\"choice here\",\n",
    "            \"d\":\"choice here\",\n",
    "        },\n",
    "        \"correct\":\"correct answer\",\n",
    "    },\n",
    "     \"5\":{\n",
    "        \"mcq\":\"multiple choice question\",\n",
    "        \"options\":{\n",
    "            \"a\":\"choice here\",\n",
    "            \"b\":\"choice here\",\n",
    "            \"c\":\"choice here\",\n",
    "            \"d\":\"choice here\",\n",
    "        },\n",
    "        \"correct\":\"correct answer\",\n",
    "    },\n",
    "\n",
    "}"
   ]
  },
  {
   "cell_type": "code",
   "execution_count": 11,
   "id": "5882b88e",
   "metadata": {},
   "outputs": [],
   "source": [
    "TEMPLATE=\"\"\"\n",
    "Text:{text}\n",
    "You are an expert MCQ maker .Given the above text,it is your job to\\ create a quiz of {number} multiple choice questions for {subject} students in {tone} tone. Make sure the questions are not repeated and check all the questions to be conforming the text as well. Make sure to format your response like RESPONSE_JSON below and use it as a guide.\\\n",
    "Ensure to make {number} MCQs\n",
    "### RESPONSE_JSON\n",
    "{response_json}\n",
    "\"\"\""
   ]
  },
  {
   "cell_type": "code",
   "execution_count": 12,
   "id": "1ed33b8a",
   "metadata": {},
   "outputs": [],
   "source": [
    "quiz_generation_prompt=PromptTemplate(\n",
    "    input_variables=[\"text\",\"number\",\"subject\",\"tone\",\"response_json\"],\n",
    "    template=TEMPLATE\n",
    ")"
   ]
  },
  {
   "cell_type": "code",
   "execution_count": 13,
   "id": "61c92f71",
   "metadata": {},
   "outputs": [
    {
     "name": "stderr",
     "output_type": "stream",
     "text": [
      "C:\\Users\\prade\\AppData\\Local\\Temp\\ipykernel_17640\\3899119271.py:1: LangChainDeprecationWarning: The class `LLMChain` was deprecated in LangChain 0.1.17 and will be removed in 1.0. Use :meth:`~RunnableSequence, e.g., `prompt | llm`` instead.\n",
      "  quiz_chain=LLMChain(llm=llm,prompt=quiz_generation_prompt,output_key=\"quiz\",verbose=True)\n"
     ]
    }
   ],
   "source": [
    "quiz_chain=LLMChain(llm=llm,prompt=quiz_generation_prompt,output_key=\"quiz\",verbose=True)"
   ]
  },
  {
   "cell_type": "code",
   "execution_count": 14,
   "id": "8d22f6e8",
   "metadata": {},
   "outputs": [],
   "source": [
    "TEMPLATE2=\"\"\"\n",
    "You are an expert english grammerian and writer .Given a Multiple Choice Quiz for {subject} students.\\ You need to evaluate the complexity of the question and give a complete analysis of the quiz.Only use at max 50 words for complexity .if the quiz is not at per with the cognitive and analytical abilitues of the students,/\n",
    "update the quiz questions which needs to be changed and change the tone such that it perfectly fits the students abilities\n",
    "Quiz_MCQs:\n",
    "{quiz}\n",
    "\n",
    "Check from an expert English Wrier of the above quiz: \n",
    "\"\"\""
   ]
  },
  {
   "cell_type": "code",
   "execution_count": 15,
   "id": "cbedcd5c",
   "metadata": {},
   "outputs": [],
   "source": [
    "quiz_evaluation_prompt=PromptTemplate(input_variables=[\"subject\",\"quiz\"],template=TEMPLATE)"
   ]
  },
  {
   "cell_type": "code",
   "execution_count": 16,
   "id": "29f129ac",
   "metadata": {},
   "outputs": [],
   "source": [
    "review_chain=LLMChain(llm=llm,prompt=quiz_evaluation_prompt,output_key=\"review\",verbose=True)"
   ]
  },
  {
   "cell_type": "code",
   "execution_count": 17,
   "id": "a60f48e9",
   "metadata": {},
   "outputs": [],
   "source": [
    "generate_evaluate_chain=SequentialChain(chains=[quiz_chain,review_chain],input_variables=[\"text\",\"number\",\"subject\",\"tone\",\"response_json\"],output_variables=[\"quiz\",\"review\"],verbose=True,)"
   ]
  },
  {
   "cell_type": "code",
   "execution_count": 18,
   "id": "dc13f669",
   "metadata": {},
   "outputs": [],
   "source": [
    "file_path=\"D:\\GEN AI\\MCQ\\data.txt\""
   ]
  },
  {
   "cell_type": "code",
   "execution_count": 19,
   "id": "40869274",
   "metadata": {},
   "outputs": [],
   "source": [
    "with open(file_path,\"r\") as file:\n",
    "    TEXT=file.read()"
   ]
  },
  {
   "cell_type": "code",
   "execution_count": 20,
   "id": "19a37338",
   "metadata": {},
   "outputs": [
    {
     "name": "stdout",
     "output_type": "stream",
     "text": [
      "Machine learning (ML) is a field of study in artificial intelligence concerned with the development and study of statistical algorithms that can learn from data and generalise to unseen data, and thus perform tasks without explicit instructions.[1] Within a subdiscipline in machine learning, advances in the field of deep learning have allowed neural networks, a class of statistical algorithms, to surpass many previous machine learning approaches in performance.[2]\n",
      "\n",
      "ML finds application in many fields, including natural language processing, computer vision, speech recognition, email filtering, agriculture, and medicine. The application of ML to business problems is known as predictive analytics.\n",
      "\n",
      "Statistics and mathematical optimisation (mathematical programming) methods comprise the foundations of machine learning. Data mining is a related field of study, focusing on exploratory data analysis (EDA) via unsupervised learning.[4][5]\n",
      "\n",
      "From a theoretical viewpoint, probably approximately correct learning provides a mathematical and statistical framework for describing machine learning. Most traditional machine learning and deep learning algorithms can be described as empirical risk minimization under this framework.\n",
      "\n",
      "History\n",
      "See also: Timeline of machine learning\n",
      "The term machine learning was coined in 1959 by Arthur Samuel, an IBM employee and pioneer in the field of computer gaming and artificial intelligence.[6][7] The synonym self-teaching computers was also used in this time period.[8][9]\n",
      "\n",
      "The earliest machine learning program was introduced in the 1950s when Arthur Samuel invented a computer program that calculated the winning chance in checkers for each side, but the history of machine learning roots back to decades of human desire and effort to study human cognitive processes.[10] In 1949, Canadian psychologist Donald Hebb published the book The Organization of Behavior, in which he introduced a theoretical neural structure formed by certain interactions among nerve cells.[11] Hebb's model of neurons interacting with one another set a groundwork for how AIs and machine learning algorithms work under nodes, or artificial neurons used by computers to communicate data.[10] Other researchers who have studied human cognitive systems contributed to the modern machine learning technologies as well, including logician Walter Pitts and Warren McCulloch, who proposed the early mathematical models of neural networks to come up with algorithms that mirror human thought processes.[10]\n",
      "\n",
      "By the early 1960s, an experimental \"learning machine\" with punched tape memory, called Cybertron, had been developed by Raytheon Company to analyse sonar signals, electrocardiograms, and speech patterns using rudimentary reinforcement learning. It was repetitively \"trained\" by a human operator/teacher to recognise patterns and equipped with a \"goof\" button to cause it to reevaluate incorrect decisions.[12] A representative book on research into machine learning during the 1960s was Nilsson's book on Learning Machines, dealing mostly with machine learning for pattern classification.[13] Interest related to pattern recognition continued into the 1970s, as described by Duda and Hart in 1973.[14] In 1981, a report was given on using teaching strategies so that an artificial neural network learns to recognise 40 characters (26 letters, 10 digits, and 4 special symbols) from a computer terminal.[15]\n"
     ]
    }
   ],
   "source": [
    "print(TEXT)"
   ]
  },
  {
   "cell_type": "code",
   "execution_count": 21,
   "id": "9c4ba1b7",
   "metadata": {},
   "outputs": [
    {
     "data": {
      "text/plain": [
       "'{\"1\": {\"mcq\": \"multiple choice question\", \"options\": {\"a\": \"choice here\", \"b\": \"choice here\", \"c\": \"choice here\", \"d\": \"choice here\"}, \"correct\": \"correct answer\"}, \"2\": {\"mcq\": \"multiple choice question\", \"options\": {\"a\": \"choice here\", \"b\": \"choice here\", \"c\": \"choice here\", \"d\": \"choice here\"}, \"correct\": \"correct answer\"}, \"3\": {\"mcq\": \"multiple choice question\", \"options\": {\"a\": \"choice here\", \"b\": \"choice here\", \"c\": \"choice here\", \"d\": \"choice here\"}, \"correct\": \"correct answer\"}, \"4\": {\"mcq\": \"multiple choice question\", \"options\": {\"a\": \"choice here\", \"b\": \"choice here\", \"c\": \"choice here\", \"d\": \"choice here\"}, \"correct\": \"correct answer\"}, \"5\": {\"mcq\": \"multiple choice question\", \"options\": {\"a\": \"choice here\", \"b\": \"choice here\", \"c\": \"choice here\", \"d\": \"choice here\"}, \"correct\": \"correct answer\"}}'"
      ]
     },
     "execution_count": 21,
     "metadata": {},
     "output_type": "execute_result"
    }
   ],
   "source": [
    "json.dumps(RESPONSE_JSON)"
   ]
  },
  {
   "cell_type": "code",
   "execution_count": 22,
   "id": "6dbd1d98",
   "metadata": {},
   "outputs": [],
   "source": [
    "NUMBER=5\n",
    "SUBJECT=\"Machine Learning\"\n",
    "TONE=\"simple\""
   ]
  },
  {
   "cell_type": "code",
   "execution_count": null,
   "id": "416d760e",
   "metadata": {},
   "outputs": [
    {
     "name": "stdout",
     "output_type": "stream",
     "text": [
      "Raw model output:\n",
      " {\n",
      "  \"1\": {\n",
      "    \"mcq\": \"What is Machine Learning?\",\n",
      "    \"options\": {\n",
      "      \"a\": \"A field of study that gives computers the ability to learn without being explicitly programmed\",\n",
      "      \"b\": \"A type of programming language\",\n",
      "      \"c\": \"A hardware device used for learning purposes\",\n",
      "      \"d\": \"A type of computer virus\"\n",
      "    },\n",
      "    \"correct\": \"a\"\n",
      "  },\n",
      "  \"2\": {\n",
      "    \"mcq\": \"What is the main goal of Machine Learning?\",\n",
      "    \"options\": {\n",
      "      \"a\": \"To make computers think like humans\",\n",
      "      \"b\": \"To make computers learn from data\",\n",
      "      \"c\": \"To replace human intelligence with artificial intelligence\",\n",
      "      \"d\": \"To make computers faster\"\n",
      "    },\n",
      "    \"correct\": \"b\"\n",
      "  },\n",
      "  \"3\": {\n",
      "    \"mcq\": \"Which of the following is NOT a type of Machine Learning?\",\n",
      "    \"options\": {\n",
      "      \"a\": \"Supervised Learning\",\n",
      "      \"b\": \"Unsupervised Learning\",\n",
      "      \"c\": \"Reinforcement Learning\",\n",
      "      \"d\": \"Manual Learning\"\n",
      "    },\n",
      "    \"correct\": \"d\"\n",
      "  },\n",
      "  \"4\": {\n",
      "    \"mcq\": \"What is the process of training a Machine Learning model called?\",\n",
      "    \"options\": {\n",
      "      \"a\": \"Programming\",\n",
      "      \"b\": \"Learning\",\n",
      "      \"c\": \"Teaching\",\n",
      "      \"d\": \"Training\"\n",
      "    },\n",
      "    \"correct\": \"d\"\n",
      "  },\n",
      "  \"5\": {\n",
      "    \"mcq\": \"Which of the following is an example of Machine Learning application?\",\n",
      "    \"options\": {\n",
      "      \"a\": \"Email spam filtering\",\n",
      "      \"b\": \"Typing on a keyboard\",\n",
      "      \"c\": \"Watching a movie\",\n",
      "      \"d\": \"Playing a video game\"\n",
      "    },\n",
      "    \"correct\": \"a\"\n",
      "  }\n",
      "}\n",
      "\n",
      "✅ Parsed JSON successfully!\n",
      "💾 Saved MCQs to response.json\n",
      "Total tokens used: 694\n"
     ]
    }
   ],
   "source": [
    "import os\n",
    "import json\n",
    "import re\n",
    "from dotenv import load_dotenv\n",
    "from langchain_openai import ChatOpenAI\n",
    "from langchain.schema import HumanMessage\n",
    "from langchain.callbacks import get_openai_callback\n",
    "\n",
    "# --- 1️⃣ Load environment variables ---\n",
    "load_dotenv()\n",
    "api_key = os.getenv(\"OPENAI_API_KEY\")\n",
    "\n",
    "if not api_key:\n",
    "    raise ValueError(\"⚠️ OPENAI_API_KEY not found! Add it to your .env file.\")\n",
    "\n",
    "# --- 2️⃣ Initialize your LLM ---\n",
    "llm = ChatOpenAI(\n",
    "    model_name=\"gpt-3.5-turbo\",\n",
    "    temperature=0,\n",
    "    openai_api_key=api_key\n",
    ")\n",
    "\n",
    "# --- 3️⃣ Prepare your text and template ---\n",
    "TEXT = \"Machine learning (ML) is a field of study that gives computers the ability to learn without being explicitly programmed.\"\n",
    "\n",
    "RESPONSE_JSON = {\n",
    "    \"1\": {\"mcq\": \"\", \"options\": {\"a\": \"\", \"b\": \"\", \"c\": \"\", \"d\": \"\"}, \"correct\": \"\"},\n",
    "    \"2\": {\"mcq\": \"\", \"options\": {\"a\": \"\", \"b\": \"\", \"c\": \"\", \"d\": \"\"}, \"correct\": \"\"},\n",
    "    \"3\": {\"mcq\": \"\", \"options\": {\"a\": \"\", \"b\": \"\", \"c\": \"\", \"d\": \"\"}, \"correct\": \"\"},\n",
    "    \"4\": {\"mcq\": \"\", \"options\": {\"a\": \"\", \"b\": \"\", \"c\": \"\", \"d\": \"\"}, \"correct\": \"\"},\n",
    "    \"5\": {\"mcq\": \"\", \"options\": {\"a\": \"\", \"b\": \"\", \"c\": \"\", \"d\": \"\"}, \"correct\": \"\"}\n",
    "}\n",
    "\n",
    "# --- 4️⃣ Compose your prompt ---\n",
    "prompt = f\"\"\"\n",
    "You are an expert MCQ maker. Given the following text, create a quiz of 5 multiple-choice questions\n",
    "for Machine Learning students in simple tone. Format your response exactly as JSON like below:\n",
    "\n",
    "{json.dumps(RESPONSE_JSON, indent=2)}\n",
    "\n",
    "Text:\n",
    "{TEXT}\n",
    "\"\"\"\n",
    "\n",
    "# --- 5️⃣ Call the model ---\n",
    "with get_openai_callback() as cb:\n",
    "    response = llm.invoke([HumanMessage(content=prompt)])\n",
    "    raw_output = response.content.strip()\n",
    "    print(\"Raw model output:\\n\", raw_output)\n",
    "\n",
    "# --- 6️⃣ Safely extract valid JSON ---\n",
    "try:\n",
    "    json_str = re.search(r\"\\{.*\\}\", raw_output, re.DOTALL).group()\n",
    "    parsed_json = json.loads(json_str)\n",
    "    print(\"\\n✅ Parsed JSON successfully!\")\n",
    "except Exception as e:\n",
    "    print(\"\\n❌ JSON parsing failed:\", e)\n",
    "    parsed_json = None\n",
    "\n",
    "# --- 7️⃣ Save JSON to file (optional) ---\n",
    "if parsed_json:\n",
    "    with open(\"response.json\", \"w\") as f:\n",
    "        json.dump(parsed_json, f, indent=2)\n",
    "    print(\"💾 Saved MCQs to response.json\")\n",
    "\n",
    "print(\"Total tokens used:\", cb.total_tokens)\n"
   ]
  },
  {
   "cell_type": "code",
   "execution_count": 5,
   "id": "095bc282",
   "metadata": {},
   "outputs": [],
   "source": [
    "quiz = json.loads(response.content)\n"
   ]
  },
  {
   "cell_type": "code",
   "execution_count": 6,
   "id": "fb92200f",
   "metadata": {},
   "outputs": [],
   "source": [
    "quiz_table_data=[]\n",
    "for key,value in quiz.items():\n",
    "    mcq=value[\"mcq\"]\n",
    "    options=\"|\".join(\n",
    "        [\n",
    "            f\"{option}:{option_value}\"\n",
    "            for option,option_value in value[\"options\"].items()\n",
    "        ]\n",
    "    )\n",
    "    correct=value[\"correct\"]\n",
    "    quiz_table_data.append({\"MCQ\":mcq,\"Choice\":options,\"Correct\":correct})"
   ]
  },
  {
   "cell_type": "code",
   "execution_count": 7,
   "id": "6d34ef54",
   "metadata": {},
   "outputs": [
    {
     "data": {
      "text/plain": [
       "[{'MCQ': 'What is the main goal of machine learning?',\n",
       "  'Choice': 'a:To make machines intelligent|b:To make machines learn from data|c:To make machines think like humans|d:To make machines replace humans',\n",
       "  'Correct': 'b'},\n",
       " {'MCQ': 'Which of the following is NOT a type of machine learning?',\n",
       "  'Choice': 'a:Supervised learning|b:Unsupervised learning|c:Reinforcement learning|d:Manual learning',\n",
       "  'Correct': 'd'},\n",
       " {'MCQ': 'What is the process of feeding input data into a machine learning model known as?',\n",
       "  'Choice': 'a:Training|b:Testing|c:Validation|d:Prediction',\n",
       "  'Correct': 'a'},\n",
       " {'MCQ': 'Which algorithm is commonly used for classification in machine learning?',\n",
       "  'Choice': 'a:Linear Regression|b:K-Means Clustering|c:Decision Trees|d:Principal Component Analysis',\n",
       "  'Correct': 'c'},\n",
       " {'MCQ': 'What is overfitting in machine learning?',\n",
       "  'Choice': 'a:When a model performs well on training data but poorly on testing data|b:When a model performs well on both training and testing data|c:When a model is too simple to capture the underlying patterns in the data|d:When a model is not complex enough to learn from the data',\n",
       "  'Correct': 'a'}]"
      ]
     },
     "execution_count": 7,
     "metadata": {},
     "output_type": "execute_result"
    }
   ],
   "source": [
    "quiz_table_data"
   ]
  },
  {
   "cell_type": "code",
   "execution_count": 8,
   "id": "2aea9a92",
   "metadata": {},
   "outputs": [
    {
     "data": {
      "text/plain": [
       "AIMessage(content='{\\n  \"1\": {\\n    \"mcq\": \"What is the main goal of machine learning?\",\\n    \"options\": {\\n      \"a\": \"To make machines intelligent\",\\n      \"b\": \"To make machines learn from data\",\\n      \"c\": \"To make machines think like humans\",\\n      \"d\": \"To make machines replace humans\"\\n    },\\n    \"correct\": \"b\"\\n  },\\n  \"2\": {\\n    \"mcq\": \"Which of the following is NOT a type of machine learning?\",\\n    \"options\": {\\n      \"a\": \"Supervised learning\",\\n      \"b\": \"Unsupervised learning\",\\n      \"c\": \"Reinforcement learning\",\\n      \"d\": \"Manual learning\"\\n    },\\n    \"correct\": \"d\"\\n  },\\n  \"3\": {\\n    \"mcq\": \"What is the process of feeding input data into a machine learning model known as?\",\\n    \"options\": {\\n      \"a\": \"Training\",\\n      \"b\": \"Testing\",\\n      \"c\": \"Validation\",\\n      \"d\": \"Prediction\"\\n    },\\n    \"correct\": \"a\"\\n  },\\n  \"4\": {\\n    \"mcq\": \"Which algorithm is commonly used for classification in machine learning?\",\\n    \"options\": {\\n      \"a\": \"Linear Regression\",\\n      \"b\": \"K-Means Clustering\",\\n      \"c\": \"Decision Trees\",\\n      \"d\": \"Principal Component Analysis\"\\n    },\\n    \"correct\": \"c\"\\n  },\\n  \"5\": {\\n    \"mcq\": \"What is overfitting in machine learning?\",\\n    \"options\": {\\n      \"a\": \"When a model performs well on training data but poorly on testing data\",\\n      \"b\": \"When a model performs well on both training and testing data\",\\n      \"c\": \"When a model is too simple to capture the underlying patterns in the data\",\\n      \"d\": \"When a model is not complex enough to learn from the data\"\\n    },\\n    \"correct\": \"a\"\\n  }\\n}', additional_kwargs={'refusal': None}, response_metadata={'token_usage': {'completion_tokens': 415, 'prompt_tokens': 288, 'total_tokens': 703, 'completion_tokens_details': {'accepted_prediction_tokens': 0, 'audio_tokens': 0, 'reasoning_tokens': 0, 'rejected_prediction_tokens': 0}, 'prompt_tokens_details': {'audio_tokens': 0, 'cached_tokens': 0}}, 'model_name': 'gpt-3.5-turbo-0125', 'system_fingerprint': None, 'id': 'chatcmpl-CT82b4OPCdqMF3RhDDX0VKPWuAl3G', 'service_tier': 'default', 'finish_reason': 'stop', 'logprobs': None}, id='run--6e8844ae-7dc5-4bd9-9893-d9d9ebe840c6-0', usage_metadata={'input_tokens': 288, 'output_tokens': 415, 'total_tokens': 703, 'input_token_details': {'audio': 0, 'cache_read': 0}, 'output_token_details': {'audio': 0, 'reasoning': 0}})"
      ]
     },
     "execution_count": 8,
     "metadata": {},
     "output_type": "execute_result"
    }
   ],
   "source": [
    "response"
   ]
  },
  {
   "cell_type": "code",
   "execution_count": 14,
   "id": "6710b51e",
   "metadata": {},
   "outputs": [],
   "source": [
    "import pandas as pd\n",
    "df=pd.DataFrame(quiz_table_data)"
   ]
  },
  {
   "cell_type": "code",
   "execution_count": 16,
   "id": "375a0e69",
   "metadata": {},
   "outputs": [
    {
     "name": "stdout",
     "output_type": "stream",
     "text": [
      "Quiz saved to machinelearning.csv\n"
     ]
    }
   ],
   "source": [
    "df.to_csv(\"machinelearning.csv\",index=False)\n",
    "print(\"Quiz saved to machinelearning.csv\")"
   ]
  },
  {
   "cell_type": "code",
   "execution_count": 2,
   "id": "75a290ed",
   "metadata": {},
   "outputs": [
    {
     "data": {
      "text/plain": [
       "'10_22_25_07_13_20'"
      ]
     },
     "execution_count": 2,
     "metadata": {},
     "output_type": "execute_result"
    }
   ],
   "source": [
    "from datetime import datetime\n",
    "datetime.now().strftime('%m_%d_%y_%H_%M_%S')"
   ]
  },
  {
   "cell_type": "code",
   "execution_count": null,
   "id": "26c16d09",
   "metadata": {},
   "outputs": [],
   "source": []
  }
 ],
 "metadata": {
  "kernelspec": {
   "display_name": "pradeep",
   "language": "python",
   "name": "python3"
  },
  "language_info": {
   "codemirror_mode": {
    "name": "ipython",
    "version": 3
   },
   "file_extension": ".py",
   "mimetype": "text/x-python",
   "name": "python",
   "nbconvert_exporter": "python",
   "pygments_lexer": "ipython3",
   "version": "3.9.23"
  }
 },
 "nbformat": 4,
 "nbformat_minor": 5
}
